{
 "cells": [
  {
   "cell_type": "code",
   "execution_count": 1,
   "metadata": {},
   "outputs": [],
   "source": [
    "# https://datahacker.rs/019-siamese-network-in-pytorch-with-application-to-face-similarity\n",
    "import numpy as np # linear algebra\n",
    "import pandas as pd # data processing, CSV file I/O (e.g. pd.read_csv)\n",
    "import torch\n",
    "import torch.nn as nn \n",
    "from torchvision.io import read_image, ImageReadMode\n",
    "import torchvision.models as models \n",
    "from torch.utils.data import Dataset, DataLoader\n",
    "from torchvision import transforms, utils\n",
    "import os\n",
    "import random"
   ]
  },
  {
   "cell_type": "code",
   "execution_count": 2,
   "metadata": {},
   "outputs": [],
   "source": [
    "RECORD_COUNT = 300 # 82736\n",
    "BATCH_SIZE = 8\n",
    "TRAIN_START = 0\n",
    "TRAIN_END = 199\n",
    "TEST_START = 200\n",
    "TEST_END = 299\n",
    "PAIR_COUNT = 32"
   ]
  },
  {
   "cell_type": "code",
   "execution_count": 3,
   "metadata": {},
   "outputs": [
    {
     "name": "stdout",
     "output_type": "stream",
     "text": [
      "cuda:0\n"
     ]
    }
   ],
   "source": [
    "device = torch.device(\"cuda:0\" if torch.cuda.is_available() else \"cpu\")\n",
    "# Assuming that we are on a CUDA machine, this should print a CUDA device:\n",
    "print(device)"
   ]
  },
  {
   "cell_type": "code",
   "execution_count": 4,
   "metadata": {},
   "outputs": [],
   "source": [
    "xray_df = pd.read_csv(os.path.join(\"Data_Entry_2017.csv\")) \n",
    "xray_df = xray_df.head(RECORD_COUNT)"
   ]
  },
  {
   "cell_type": "code",
   "execution_count": 5,
   "metadata": {},
   "outputs": [],
   "source": [
    "class XRayNetworkDataset(torch.utils.data.Dataset):\n",
    "\n",
    "    def __init__(self, dataframe, root_dir, start_index, end_index, transform=None, pair_count = PAIR_COUNT):\n",
    "        \"\"\"\n",
    "        Args:\n",
    "            csv_file (string): Path to the csv file with annotations.\n",
    "            root_dir (string): Directory with all the images.\n",
    "            transform (callable, optional): Optional transform to be applied\n",
    "                on a sample.\n",
    "        \"\"\"\n",
    "        self.dataframe = dataframe\n",
    "        self.root_dir = root_dir\n",
    "        self.transform = transform\n",
    "        self.start_index = start_index\n",
    "        self.end_index = end_index\n",
    "        self.patient_map = {} \n",
    "        self.pair_count = pair_count\n",
    "        self.patient_keys = []\n",
    "\n",
    "        i = start_index\n",
    "        while i <= end_index:\n",
    "            patient_id = self.dataframe.iloc[i]['Patient ID']\n",
    "            image_path = os.path.join(self.root_dir, dataframe.iloc[i]['Image Index'])\n",
    "            if patient_id not in self.patient_map:\n",
    "                self.patient_map[patient_id] = [image_path]\n",
    "                self.patient_keys.append(patient_id)\n",
    "            else:\n",
    "                self.patient_map[patient_id].append(image_path)\n",
    "            i += 1\n",
    "\n",
    "    def __len__(self):\n",
    "        return len(self.data_tuples)\n",
    "\n",
    "    def __getitem__(self, idx):\n",
    "        \n",
    "        im0, im1 = None, None\n",
    "        label = 0\n",
    "\n",
    "        if (random.randint(0, 1) == 0):\n",
    "            # Same patient \n",
    "            chosen_patient = random.choice(self.patient_keys)\n",
    "            while len(self.patient_map[chosen_patient]) <= 1:\n",
    "                chosen_patient = random.choice(self.patient_keys)\n",
    "            im0, im1 = random.choices(self.patient_map[chosen_patient], k = 2)\n",
    "            while im1 == im0:\n",
    "                im0, im1 = random.choices(self.patient_map[chosen_patient], k = 2)\n",
    "            label = torch.tensor(1)\n",
    "            \n",
    "        else:\n",
    "            # Different patient\n",
    "            p1, p2 = random.choices(self.patient_keys, k = 2)\n",
    "            while p1 == p2:\n",
    "                p1, p2 = random.choices(self.patient_keys, k = 2)\n",
    "            im0 = random.choices(self.patient_map[p1], k = 1)\n",
    "            im1 = random.choices(self.patient_map[p2], k = 1)\n",
    "            label = torch.tensor(0)\n",
    "\n",
    "        im0 = read_image(im0, mode=ImageReadMode.GRAY)\n",
    "        im1 = read_image(im1, mode=ImageReadMode.GRAY)\n",
    "        \n",
    "        return (im0, im1, label)"
   ]
  },
  {
   "cell_type": "code",
   "execution_count": 8,
   "metadata": {},
   "outputs": [],
   "source": [
    "dataset = XRayNetworkDataset(xray_df, os.path.join(\"images\"), TRAIN_START, TRAIN_END)"
   ]
  },
  {
   "cell_type": "code",
   "execution_count": 9,
   "metadata": {},
   "outputs": [
    {
     "ename": "RuntimeError",
     "evalue": "image::read_file() Expected a value of type 'str' for argument '_0' but instead found type 'list'.\nPosition: 0\nValue: ['images\\\\00000035_000.png']\nDeclaration: image::read_file(str _0) -> (Tensor _0)\nCast error details: Unable to cast Python instance to C++ type (compile in debug mode for details)",
     "output_type": "error",
     "traceback": [
      "\u001b[1;31m---------------------------------------------------------------------------\u001b[0m",
      "\u001b[1;31mRuntimeError\u001b[0m                              Traceback (most recent call last)",
      "\u001b[1;32mC:\\Users\\JAMIEN~1\\AppData\\Local\\Temp/ipykernel_14804/1397938648.py\u001b[0m in \u001b[0;36m<module>\u001b[1;34m\u001b[0m\n\u001b[0;32m      1\u001b[0m \u001b[1;32mfor\u001b[0m \u001b[0mi\u001b[0m \u001b[1;32min\u001b[0m \u001b[0mrange\u001b[0m\u001b[1;33m(\u001b[0m\u001b[0mPAIR_COUNT\u001b[0m\u001b[1;33m)\u001b[0m\u001b[1;33m:\u001b[0m\u001b[1;33m\u001b[0m\u001b[1;33m\u001b[0m\u001b[0m\n\u001b[1;32m----> 2\u001b[1;33m     \u001b[0mprint\u001b[0m \u001b[1;33m(\u001b[0m\u001b[0mdataset\u001b[0m\u001b[1;33m[\u001b[0m\u001b[0mi\u001b[0m\u001b[1;33m]\u001b[0m\u001b[1;33m)\u001b[0m\u001b[1;33m\u001b[0m\u001b[1;33m\u001b[0m\u001b[0m\n\u001b[0m",
      "\u001b[1;32mC:\\Users\\JAMIEN~1\\AppData\\Local\\Temp/ipykernel_14804/2304719977.py\u001b[0m in \u001b[0;36m__getitem__\u001b[1;34m(self, idx)\u001b[0m\n\u001b[0;32m     56\u001b[0m             \u001b[0mlabel\u001b[0m \u001b[1;33m=\u001b[0m \u001b[0mtorch\u001b[0m\u001b[1;33m.\u001b[0m\u001b[0mtensor\u001b[0m\u001b[1;33m(\u001b[0m\u001b[1;36m0\u001b[0m\u001b[1;33m)\u001b[0m\u001b[1;33m\u001b[0m\u001b[1;33m\u001b[0m\u001b[0m\n\u001b[0;32m     57\u001b[0m \u001b[1;33m\u001b[0m\u001b[0m\n\u001b[1;32m---> 58\u001b[1;33m         \u001b[0mim0\u001b[0m \u001b[1;33m=\u001b[0m \u001b[0mread_image\u001b[0m\u001b[1;33m(\u001b[0m\u001b[0mim0\u001b[0m\u001b[1;33m,\u001b[0m \u001b[0mmode\u001b[0m\u001b[1;33m=\u001b[0m\u001b[0mImageReadMode\u001b[0m\u001b[1;33m.\u001b[0m\u001b[0mGRAY\u001b[0m\u001b[1;33m)\u001b[0m\u001b[1;33m\u001b[0m\u001b[1;33m\u001b[0m\u001b[0m\n\u001b[0m\u001b[0;32m     59\u001b[0m         \u001b[0mim1\u001b[0m \u001b[1;33m=\u001b[0m \u001b[0mread_image\u001b[0m\u001b[1;33m(\u001b[0m\u001b[0mim1\u001b[0m\u001b[1;33m,\u001b[0m \u001b[0mmode\u001b[0m\u001b[1;33m=\u001b[0m\u001b[0mImageReadMode\u001b[0m\u001b[1;33m.\u001b[0m\u001b[0mGRAY\u001b[0m\u001b[1;33m)\u001b[0m\u001b[1;33m\u001b[0m\u001b[1;33m\u001b[0m\u001b[0m\n\u001b[0;32m     60\u001b[0m \u001b[1;33m\u001b[0m\u001b[0m\n",
      "\u001b[1;32m~\\AppData\\Roaming\\Python\\Python38\\site-packages\\torchvision\\io\\image.py\u001b[0m in \u001b[0;36mread_image\u001b[1;34m(path, mode)\u001b[0m\n\u001b[0;32m    220\u001b[0m         \u001b[0moutput\u001b[0m \u001b[1;33m(\u001b[0m\u001b[0mTensor\u001b[0m\u001b[1;33m[\u001b[0m\u001b[0mimage_channels\u001b[0m\u001b[1;33m,\u001b[0m \u001b[0mimage_height\u001b[0m\u001b[1;33m,\u001b[0m \u001b[0mimage_width\u001b[0m\u001b[1;33m]\u001b[0m\u001b[1;33m)\u001b[0m\u001b[1;33m\u001b[0m\u001b[1;33m\u001b[0m\u001b[0m\n\u001b[0;32m    221\u001b[0m     \"\"\"\n\u001b[1;32m--> 222\u001b[1;33m     \u001b[0mdata\u001b[0m \u001b[1;33m=\u001b[0m \u001b[0mread_file\u001b[0m\u001b[1;33m(\u001b[0m\u001b[0mpath\u001b[0m\u001b[1;33m)\u001b[0m\u001b[1;33m\u001b[0m\u001b[1;33m\u001b[0m\u001b[0m\n\u001b[0m\u001b[0;32m    223\u001b[0m     \u001b[1;32mreturn\u001b[0m \u001b[0mdecode_image\u001b[0m\u001b[1;33m(\u001b[0m\u001b[0mdata\u001b[0m\u001b[1;33m,\u001b[0m \u001b[0mmode\u001b[0m\u001b[1;33m)\u001b[0m\u001b[1;33m\u001b[0m\u001b[1;33m\u001b[0m\u001b[0m\n",
      "\u001b[1;32m~\\AppData\\Roaming\\Python\\Python38\\site-packages\\torchvision\\io\\image.py\u001b[0m in \u001b[0;36mread_file\u001b[1;34m(path)\u001b[0m\n\u001b[0;32m     40\u001b[0m         \u001b[0mdata\u001b[0m \u001b[1;33m(\u001b[0m\u001b[0mTensor\u001b[0m\u001b[1;33m)\u001b[0m\u001b[1;33m\u001b[0m\u001b[1;33m\u001b[0m\u001b[0m\n\u001b[0;32m     41\u001b[0m     \"\"\"\n\u001b[1;32m---> 42\u001b[1;33m     \u001b[0mdata\u001b[0m \u001b[1;33m=\u001b[0m \u001b[0mtorch\u001b[0m\u001b[1;33m.\u001b[0m\u001b[0mops\u001b[0m\u001b[1;33m.\u001b[0m\u001b[0mimage\u001b[0m\u001b[1;33m.\u001b[0m\u001b[0mread_file\u001b[0m\u001b[1;33m(\u001b[0m\u001b[0mpath\u001b[0m\u001b[1;33m)\u001b[0m\u001b[1;33m\u001b[0m\u001b[1;33m\u001b[0m\u001b[0m\n\u001b[0m\u001b[0;32m     43\u001b[0m     \u001b[1;32mreturn\u001b[0m \u001b[0mdata\u001b[0m\u001b[1;33m\u001b[0m\u001b[1;33m\u001b[0m\u001b[0m\n\u001b[0;32m     44\u001b[0m \u001b[1;33m\u001b[0m\u001b[0m\n",
      "\u001b[1;31mRuntimeError\u001b[0m: image::read_file() Expected a value of type 'str' for argument '_0' but instead found type 'list'.\nPosition: 0\nValue: ['images\\\\00000035_000.png']\nDeclaration: image::read_file(str _0) -> (Tensor _0)\nCast error details: Unable to cast Python instance to C++ type (compile in debug mode for details)"
     ]
    }
   ],
   "source": [
    "for i in range(PAIR_COUNT):\n",
    "    print (dataset[i])"
   ]
  }
 ],
 "metadata": {
  "interpreter": {
   "hash": "d52756475fbe9a94e1985ec22145f6f272a8bc8399c60243af096ce7aceca88a"
  },
  "kernelspec": {
   "display_name": "Python 3.8.12 64-bit ('pytorch01': conda)",
   "language": "python",
   "name": "python3"
  },
  "language_info": {
   "codemirror_mode": {
    "name": "ipython",
    "version": 3
   },
   "file_extension": ".py",
   "mimetype": "text/x-python",
   "name": "python",
   "nbconvert_exporter": "python",
   "pygments_lexer": "ipython3",
   "version": "3.8.12"
  },
  "orig_nbformat": 4
 },
 "nbformat": 4,
 "nbformat_minor": 2
}
