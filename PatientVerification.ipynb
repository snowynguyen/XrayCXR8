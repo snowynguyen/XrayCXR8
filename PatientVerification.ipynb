{
 "cells": [
  {
   "cell_type": "code",
   "execution_count": null,
   "metadata": {},
   "outputs": [
    {
     "ename": "",
     "evalue": "",
     "output_type": "error",
     "traceback": [
      "\u001b[1;31mThe kernel failed to start due to an error with the Win32api module. Consider (re) installing this module. \n",
      "View Jupyter <a href='command:jupyter.viewOutput'>log</a> for further details.\n",
      "<a href='https://aka.ms/kernelFailuresWin32Api'>Learn more</a>"
     ]
    }
   ],
   "source": [
    "# https://datahacker.rs/019-siamese-network-in-pytorch-with-application-to-face-similarity\n",
    "import numpy as np # linear algebra\n",
    "import pandas as pd # data processing, CSV file I/O (e.g. pd.read_csv)\n",
    "import torch\n",
    "from torch.utils.data import Dataset, DataLoader\n",
    "import torch.nn as nn \n",
    "import torchvision.models as models \n",
    "import torchvision.transforms as transforms\n",
    "import os\n",
    "import matplotlib.pyplot as plt\n",
    "from glob import glob\n",
    "from math import ceil, floor\n",
    "import random \n",
    "from PIL import Image"
   ]
  }
 ],
 "metadata": {
  "interpreter": {
   "hash": "aa477d0afa2bc07d7ed68329ac066484f78e9f4ef9c592c6114fa0b103a52652"
  },
  "kernelspec": {
   "display_name": "Python 3.9.7 64-bit ('pytorch02': conda)",
   "language": "python",
   "name": "python3"
  },
  "language_info": {
   "name": "python",
   "version": "3.9.7"
  },
  "orig_nbformat": 4
 },
 "nbformat": 4,
 "nbformat_minor": 2
}
